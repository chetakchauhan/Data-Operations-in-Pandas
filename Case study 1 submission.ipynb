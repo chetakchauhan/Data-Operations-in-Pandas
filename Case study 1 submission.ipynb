{
 "cells": [
  {
   "cell_type": "code",
   "execution_count": 2,
   "metadata": {},
   "outputs": [
    {
     "name": "stdout",
     "output_type": "stream",
     "text": [
      "steps in UP direction: 5\n",
      "steps in DOWN direction: 3\n",
      "steps in LEFT direction: 3\n",
      "steps in RIGHT direction: 2\n",
      "Robot position on X-axis is -1\n",
      "Robot position on Y-axis is 2\n"
     ]
    }
   ],
   "source": [
    "#1\n",
    "\n",
    "'''\n",
    "A Robot moves in a Plane starting from the origin point (0,0). The robot can move toward UP, DOWN, LEFT, RIGHT. \n",
    "The trace of Robot movement is as given following:\n",
    "UP 5\n",
    "DOWN 3\n",
    "LEFT 3\n",
    "RIGHT 2\n",
    "The numbers after directions are steps. \n",
    "\n",
    "Write a program to compute the distance current position after sequence of movements.\n",
    "'''\n",
    "\n",
    "def move(up, down, left, right):\n",
    "    x = right - left\n",
    "    y = up - down\n",
    "    return(x,y)\n",
    "\n",
    "up = input(\"steps in UP direction: \")\n",
    "down = input(\"steps in DOWN direction: \")\n",
    "left = input(\"steps in LEFT direction: \")\n",
    "right = input(\"steps in RIGHT direction: \")\n",
    "\n",
    "x, y = move(int(up), int(down), int(left), int(right))\n",
    "\n",
    "print(\"Robot position on X-axis is\", x)\n",
    "print(\"Robot position on Y-axis is\", y)\n",
    "\n",
    "\n"
   ]
  },
  {
   "cell_type": "code",
   "execution_count": 10,
   "metadata": {},
   "outputs": [
    {
     "name": "stdout",
     "output_type": "stream",
     "text": [
      "Enter age of employees: 10 20 30\n",
      "Enter cut_off age: 15\n",
      "20\n",
      "30\n"
     ]
    }
   ],
   "source": [
    "#2\n",
    "\n",
    "'''\n",
    "Data of XYZ company is stored in sorted list. Write a program for searching specific data from that list.\n",
    "'''\n",
    "\n",
    "# I am assuming the data is only the age of the employees and we want employees above a certain age\n",
    "\n",
    "\n",
    "age_data = input(\"Enter age of employees seperated by a space: \")\n",
    "cut_off = input(\"Enter cut_off age: \")\n",
    "\n",
    "age_data_int = list(map(int, age_data.split()))\n",
    "\n",
    "for age in age_data_int:\n",
    "    if age > int(cut_off):\n",
    "        print (age)\n",
    "    else: continue\n",
    "        \n",
    "        \n",
    "        "
   ]
  },
  {
   "cell_type": "code",
   "execution_count": 27,
   "metadata": {},
   "outputs": [
    {
     "name": "stdout",
     "output_type": "stream",
     "text": [
      "Its not dark outside\n"
     ]
    }
   ],
   "source": [
    "#3\n",
    "\n",
    "'''\n",
    "Weather forecasting organization wants to show is it day or night. \n",
    "Write a program for such organization to find whether is it dark outside or not.\n",
    "'''\n",
    "\n",
    "from time import localtime\n",
    "\n",
    "h = int(strftime(\"%H\", localtime())) # getting the hour from the current local time\n",
    "\n",
    "if (h>19 & h<5): # am assuming 7pm to 5am as the night time\n",
    "    print(\"Its dark outside\")\n",
    "else: \n",
    "    print(\"Its not dark outside\")\n",
    "\n",
    "\n"
   ]
  },
  {
   "cell_type": "code",
   "execution_count": 29,
   "metadata": {},
   "outputs": [
    {
     "name": "stdout",
     "output_type": "stream",
     "text": [
      "Input coordinates of two points(in degrees):\n",
      "Starting latitude: 23\n",
      "Starting longitude: 50\n",
      "Ending latitude: 24\n",
      "Ending longitude: 51\n",
      "The distance is 150.87km.\n"
     ]
    }
   ],
   "source": [
    "#4\n",
    "\n",
    "'''\n",
    "Write a program to find distance between two locations when their latitude and longitudes are given.\n",
    "'''\n",
    "\n",
    "from math import radians, sin, cos, acos\n",
    "\n",
    "print(\"Input coordinates of two points(in degrees):\")\n",
    "slat = radians(float(input(\"Starting latitude: \")))\n",
    "slon = radians(float(input(\"Starting longitude: \")))\n",
    "elat = radians(float(input(\"Ending latitude: \")))\n",
    "elon = radians(float(input(\"Ending longitude: \")))\n",
    "\n",
    "dist = 6371.01 * acos(sin(slat)*sin(elat) + cos(slat)*cos(elat)*cos(slon - elon))\n",
    "print(\"The distance is %.2fkm.\" % dist)"
   ]
  },
  {
   "cell_type": "code",
   "execution_count": 36,
   "metadata": {},
   "outputs": [
    {
     "name": "stdout",
     "output_type": "stream",
     "text": [
      "Please select from the following options \n",
      "1. Cash withdraw \n",
      "2. Cash credit \n",
      "3. Change password\n",
      "Your choice: 2\n",
      "This is Cash credit option\n"
     ]
    }
   ],
   "source": [
    "#5\n",
    "\n",
    "'''\n",
    "Design a software for bank system. There should be options like cash withdraw, cash credit and change password. \n",
    "According to user input, the software should provide required output.\n",
    "'''\n",
    "\n",
    "print(\"Please select from the following options\",\"\\n1. Cash withdraw\", \"\\n2. Cash credit\", \"\\n3. Change password\")\n",
    "\n",
    "x = int(input(\"Your choice: \"))\n",
    "\n",
    "if x==1:\n",
    "    print(\"This is Cash withdrawl option\")\n",
    "elif x==2:\n",
    "    print(\"This is Cash credit option\")\n",
    "elif x==3:\n",
    "    print(\"This is Change password option\")\n",
    "else:\n",
    "    print(\"Incorrect input\")\n",
    "\n",
    "    "
   ]
  },
  {
   "cell_type": "code",
   "execution_count": 46,
   "metadata": {},
   "outputs": [
    {
     "name": "stdout",
     "output_type": "stream",
     "text": [
      "[2002, 2009, 2016, 2023, 2037, 2044, 2051, 2058, 2072, 2079, 2086, 2093, 2107, 2114, 2121, 2128, 2142, 2149, 2156, 2163, 2177, 2184, 2191, 2198, 2212, 2219, 2226, 2233, 2247, 2254, 2261, 2268, 2282, 2289, 2296, 2303, 2317, 2324, 2331, 2338, 2352, 2359, 2366, 2373, 2387, 2394, 2401, 2408, 2422, 2429, 2436, 2443, 2457, 2464, 2471, 2478, 2492, 2499, 2506, 2513, 2527, 2534, 2541, 2548, 2562, 2569, 2576, 2583, 2597, 2604, 2611, 2618, 2632, 2639, 2646, 2653, 2667, 2674, 2681, 2688, 2702, 2709, 2716, 2723, 2737, 2744, 2751, 2758, 2772, 2779, 2786, 2793, 2807, 2814, 2821, 2828, 2842, 2849, 2856, 2863, 2877, 2884, 2891, 2898, 2912, 2919, 2926, 2933, 2947, 2954, 2961, 2968, 2982, 2989, 2996, 3003, 3017, 3024, 3031, 3038, 3052, 3059, 3066, 3073, 3087, 3094, 3101, 3108, 3122, 3129, 3136, 3143, 3157, 3164, 3171, 3178, 3192, 3199]\n"
     ]
    }
   ],
   "source": [
    "#6\n",
    "\n",
    "'''\n",
    "Write a program which will find all numbers which are divisible by 7 but are not a multiple of 5, between 2000 and\n",
    "3200 (both included). The numbers obtained should be printed in a comma-separated sequence on a single line.\n",
    "'''\n",
    "\n",
    "r = list(range(2000,3201))\n",
    "\n",
    "l = list(filter(lambda x : (x%7==0 and x%5!=0),r))\n",
    "\n",
    "print(l)"
   ]
  },
  {
   "cell_type": "code",
   "execution_count": 51,
   "metadata": {},
   "outputs": [
    {
     "name": "stdout",
     "output_type": "stream",
     "text": [
      "Enter a positive integer for factorial calculation: 0\n",
      "Factorial of 0 is 1\n"
     ]
    }
   ],
   "source": [
    "#7\n",
    "\n",
    "'''\n",
    "Write a program which can compute the factorial of a given numbers. Use recursion to find it.\n",
    "'''\n",
    "\n",
    "from functools import reduce\n",
    "\n",
    "x = int(input(\"Enter a positive integer for factorial calculation: \"))\n",
    "\n",
    "if x>0:\n",
    "    fact = reduce((lambda x,y: x*y), range(1,x+1))\n",
    "else:\n",
    "    fact =1\n",
    "    \n",
    "print(\"Factorial of\", x, \"is\", fact)"
   ]
  },
  {
   "cell_type": "code",
   "execution_count": 66,
   "metadata": {},
   "outputs": [
    {
     "name": "stdout",
     "output_type": "stream",
     "text": [
      "input integral values for x 3\n",
      "input integral values for y 5\n",
      "[[0. 0. 0. 0. 0.]\n",
      " [0. 1. 2. 3. 4.]\n",
      " [0. 2. 4. 6. 8.]]\n"
     ]
    }
   ],
   "source": [
    "#9\n",
    "\n",
    "'''\n",
    "Write a program which takes 2 digits, X,Y as input and generates a 2-dimensional array. \n",
    "The element value in the i-th row and j-th column of the array should be i*j. \n",
    "Note: i=0,1.., X-1; j=0,1,¡-Y-1.\n",
    "'''\n",
    "\n",
    "import numpy\n",
    "\n",
    "x = int(input(\"input integral values for x \"))\n",
    "y = int(input(\"input integral values for y \"))\n",
    "\n",
    "arr = numpy.zeros((x,y))\n",
    "\n",
    "for i in range(x):\n",
    "    for j in range(y):\n",
    "        arr[i][j] = i*j\n",
    "\n",
    "print(arr)\n"
   ]
  },
  {
   "cell_type": "code",
   "execution_count": 78,
   "metadata": {},
   "outputs": [
    {
     "name": "stdout",
     "output_type": "stream",
     "text": [
      "Enter comma separated sequence of words: without,hello,bag,world\n",
      "\n",
      "The sorted words are as below:\n",
      "\n",
      "bag,hello,without,world\n"
     ]
    }
   ],
   "source": [
    "#10\n",
    "\n",
    "'''\n",
    "Write a program that accepts a comma separated sequence of words as input and prints the words in a \n",
    "comma-separated sequence after sorting them alphabetically.\n",
    "'''\n",
    "\n",
    "inp_words = input(\"Enter comma separated sequence of words: \")\n",
    "\n",
    "words_list = inp_words.split(',')\n",
    "\n",
    "words_list_sorted = sorted(words_list)\n",
    "\n",
    "print('\\nThe sorted words are as below:\\n')\n",
    "print(reduce((lambda x,y : x+','+y), words_list_sorted))\n"
   ]
  },
  {
   "cell_type": "code",
   "execution_count": 96,
   "metadata": {},
   "outputs": [
    {
     "name": "stdout",
     "output_type": "stream",
     "text": [
      "Enter few lines. After each line press enter, once done just press enter to complete the input:\n",
      "Hello world\n",
      "Practice makes perfect\n",
      "\n",
      "The entire input has been made to upper case as below:\n",
      "\n",
      "HELLO WORLD\n",
      "PRACTICE MAKES PERFECT\n"
     ]
    }
   ],
   "source": [
    "#11\n",
    "\n",
    "'''\n",
    "Write a program that accepts sequence of lines as input and prints the lines after \n",
    "making all characters in the sentence capitalized.\n",
    "'''\n",
    "\n",
    "print(\"Enter few lines. After each line press enter, once done just press enter to complete the input:\") \n",
    "\n",
    "lines = []\n",
    "while True:\n",
    "    line = input()\n",
    "    if line:\n",
    "        lines.append(line)\n",
    "    else:\n",
    "        break\n",
    "text = '\\n'.join(lines)\n",
    "\n",
    "print(\"The entire input has been made to upper case as below:\\n\")\n",
    "print(text.upper())\n"
   ]
  },
  {
   "cell_type": "code",
   "execution_count": 100,
   "metadata": {},
   "outputs": [
    {
     "name": "stdout",
     "output_type": "stream",
     "text": [
      "Enter space separated sequence of words: hello world and practice makes perfect and hello world again\n",
      "\n",
      "The sorted and de-duplicated words are as below:\n",
      "\n",
      "again and hello makes perfect practice world\n"
     ]
    }
   ],
   "source": [
    "#12\n",
    "\n",
    "'''\n",
    "Write a program that accepts a sequence of whitespace separated words as input and prints the words after \n",
    "removing all duplicate words and sorting them alphanumerically.\n",
    "'''\n",
    "\n",
    "inp_words = input(\"Enter space separated sequence of words: \")\n",
    "\n",
    "words_list = inp_words.split()\n",
    "\n",
    "words_list_sorted = sorted(set(words_list))\n",
    "\n",
    "print('\\nThe sorted and de-duplicated words are as below:\\n')\n",
    "print(reduce((lambda x,y : x+' '+y), words_list_sorted))"
   ]
  },
  {
   "cell_type": "code",
   "execution_count": 115,
   "metadata": {},
   "outputs": [
    {
     "name": "stdout",
     "output_type": "stream",
     "text": [
      "Enter comma separated 4 digit binary numbers: 0100,0011,1010,1001\n",
      "\n",
      "The binary numbers divisible by 5 are:\n"
     ]
    },
    {
     "data": {
      "text/plain": [
       "['1010']"
      ]
     },
     "execution_count": 115,
     "metadata": {},
     "output_type": "execute_result"
    }
   ],
   "source": [
    "#13\n",
    "\n",
    "'''\n",
    "Write a program which accepts a sequence of comma separated 4 digit binary numbers as its input and then check \n",
    "whether they are divisible by 5 or not. The numbers that are divisible by 5 are to be printed in a comma separated sequence.\n",
    "'''\n",
    "\n",
    "inp_bin_numbers = input(\"Enter comma separated 4 digit binary numbers: \")\n",
    "\n",
    "bin_numbers_list = inp_bin_numbers.split(',')\n",
    "\n",
    "print('\\nThe binary numbers divisible by 5 are:')\n",
    "list(filter(lambda x: int(x,2)%5==0, bin_numbers_list))"
   ]
  },
  {
   "cell_type": "code",
   "execution_count": 138,
   "metadata": {},
   "outputs": [
    {
     "name": "stdout",
     "output_type": "stream",
     "text": [
      "Enter a sentence: Hello world!\n",
      "\n",
      " Count of upper case characters is: 1\n",
      "\n",
      " Count of lower case characters is: 9\n"
     ]
    }
   ],
   "source": [
    "#14\n",
    "\n",
    "'''\n",
    "Write a program that accepts a sentence and calculate the number of upper case letters and lower case letters.\n",
    "'''\n",
    "\n",
    "s = input(\"Enter a sentence: \")\n",
    "\n",
    "x,y=0,0\n",
    "\n",
    "for i in range(len(s)):\n",
    "    if (ord(s[i])>=ord('A') and ord(s[i])<=ord('Z')):\n",
    "        x=x+1\n",
    "    elif (ord(s[i])>=ord('a') and ord(s[i])<=ord('z')):\n",
    "        y=y+1\n",
    "    else: continue\n",
    "\n",
    "print('\\n Count of upper case characters is:', x)\n",
    "\n",
    "print('\\n Count of lower case characters is:', y)\n",
    "\n"
   ]
  }
 ],
 "metadata": {
  "kernelspec": {
   "display_name": "Python 3",
   "language": "python",
   "name": "python3"
  },
  "language_info": {
   "codemirror_mode": {
    "name": "ipython",
    "version": 3
   },
   "file_extension": ".py",
   "mimetype": "text/x-python",
   "name": "python",
   "nbconvert_exporter": "python",
   "pygments_lexer": "ipython3",
   "version": "3.6.6"
  }
 },
 "nbformat": 4,
 "nbformat_minor": 2
}
