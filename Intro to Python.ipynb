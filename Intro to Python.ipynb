{
 "cells": [
  {
   "cell_type": "code",
   "execution_count": 68,
   "metadata": {},
   "outputs": [
    {
     "data": {
      "text/plain": [
       "'\\nWhat is the output of the following code?\\n nums = set([1,1,2,3,3,3,4,4]) \\n print(len(nums))\\n'"
      ]
     },
     "execution_count": 68,
     "metadata": {},
     "output_type": "execute_result"
    }
   ],
   "source": [
    "# 1\n",
    "'''\n",
    "What is the output of the following code?\n",
    " nums = set([1,1,2,3,3,3,4,4]) \n",
    " print(len(nums))\n",
    "'''\n",
    "\n",
    "# The ouput will be 4"
   ]
  },
  {
   "cell_type": "code",
   "execution_count": null,
   "metadata": {},
   "outputs": [],
   "source": [
    "# 2\n",
    "\n",
    "'''\n",
    "What will be the output?\n",
    "d = {\"john\":40, \"peter\":45} \n",
    "print(list(d.keys()))\n",
    "'''\n",
    "\n",
    "# The ouput will be ['john', 'peter']"
   ]
  },
  {
   "cell_type": "code",
   "execution_count": null,
   "metadata": {},
   "outputs": [],
   "source": [
    "# 3\n",
    "\n",
    "'''\n",
    "A website requires a user to input username and password to register. \n",
    "Write a program to check the validity of password given by user. \n",
    "Following are the criteria for checking password:\n",
    "1. At least 1 letter between [a-z]\n",
    "2. At least 1 number between [0-9]\n",
    "1. At least 1 letter between [A-Z]\n",
    "3. At least 1 character from [$#@]\n",
    "4. Minimum length of transaction password: 6 \n",
    "5. Maximum length of transaction password: 12\n",
    "'''\n",
    "\n"
   ]
  },
  {
   "cell_type": "code",
   "execution_count": 69,
   "metadata": {},
   "outputs": [
    {
     "name": "stdout",
     "output_type": "stream",
     "text": [
      "0 4\n",
      "1 7\n",
      "2 3\n",
      "3 2\n",
      "4 5\n",
      "5 9\n"
     ]
    }
   ],
   "source": [
    "# 4\n",
    "\n",
    "'''\n",
    "Write a for loop that prints all elements of a list and their position in the list.\n",
    "a = [4,7,3,2,5,9]\n",
    "'''\n",
    "\n",
    "a = [4,7,3,2,5,9]\n",
    "for i in range(len(a)):\n",
    "    print(i,a[i])"
   ]
  },
  {
   "cell_type": "code",
   "execution_count": 1,
   "metadata": {},
   "outputs": [
    {
     "name": "stdout",
     "output_type": "stream",
     "text": [
      "enter a string: H1e2l3l4o5w6o7r8l9d\n"
     ]
    },
    {
     "data": {
      "text/plain": [
       "'Helloworld'"
      ]
     },
     "execution_count": 1,
     "metadata": {},
     "output_type": "execute_result"
    }
   ],
   "source": [
    "# 5\n",
    "\n",
    "'''\n",
    "Please write a program which accepts a string from console and print the characters that have even indexes.\n",
    "'''\n",
    "\n",
    "str = input('enter a string: ')\n",
    "str[::2]"
   ]
  },
  {
   "cell_type": "code",
   "execution_count": 66,
   "metadata": {},
   "outputs": [
    {
     "name": "stdout",
     "output_type": "stream",
     "text": [
      "enter a string: rise to vote sir\n",
      "ris etov ot esir\n"
     ]
    }
   ],
   "source": [
    "# 6\n",
    "\n",
    "'''\n",
    "Please write a program which accepts a string from console and print it in reverse order.\n",
    "'''\n",
    "\n",
    "str = input('enter a string: ')\n",
    "print(str[::-1])\n"
   ]
  },
  {
   "cell_type": "code",
   "execution_count": 2,
   "metadata": {},
   "outputs": [
    {
     "name": "stdout",
     "output_type": "stream",
     "text": [
      "Enter stringabcdefgabc\n",
      "a,2\n",
      "b,2\n",
      "c,2\n",
      "d,1\n",
      "e,1\n",
      "f,1\n",
      "g,1\n"
     ]
    }
   ],
   "source": [
    "# 7\n",
    "\n",
    "'''\n",
    "Please write a program which count and print the numbers of each character in a string input by console.\n",
    "'''\n",
    "\n",
    "dic = {}\n",
    "\n",
    "str=input('Enter string') \n",
    "\n",
    "for s in str:\n",
    "    dic[s] = dic.get(s,0)+1\n",
    "    \n",
    "print('\\n'.join(['%s,%s' % (k, v) for k, v in dic.items()]))"
   ]
  },
  {
   "cell_type": "code",
   "execution_count": 3,
   "metadata": {},
   "outputs": [
    {
     "data": {
      "text/plain": [
       "[35]"
      ]
     },
     "execution_count": 3,
     "metadata": {},
     "output_type": "execute_result"
    }
   ],
   "source": [
    "# 8\n",
    "\n",
    "'''\n",
    "With two given lists [1,3,6,78,35,55] and [12,24,35,24,88,120,155].\n",
    "Write a program to make a list whose elements are intersection of the above given lists.\n",
    "'''\n",
    "\n",
    "l1=[1,3,6,78,35,55]\n",
    "l2=[12,24,35,24,88,120,155]\n",
    "\n",
    "s1=set(l1)\n",
    "s2=set(l2)\n",
    "\n",
    "l3=list(s1&s2)\n",
    "l3"
   ]
  },
  {
   "cell_type": "code",
   "execution_count": 6,
   "metadata": {},
   "outputs": [
    {
     "data": {
      "text/plain": [
       "[35, 12, 155, 24, 88, 120]"
      ]
     },
     "execution_count": 6,
     "metadata": {},
     "output_type": "execute_result"
    }
   ],
   "source": [
    "# 9\n",
    "\n",
    "'''\n",
    "With a given list [12,24,35,24,88,120,155,88,120,155]. \n",
    "Write a program to print this list after removing all duplicate values with original order reserved.\n",
    "'''\n",
    "\n",
    "l = [12,24,35,24,88,120,155,88,120,155]\n",
    "\n",
    "l2 = list(set(l))\n",
    "l2\n"
   ]
  },
  {
   "cell_type": "code",
   "execution_count": 9,
   "metadata": {},
   "outputs": [
    {
     "name": "stdout",
     "output_type": "stream",
     "text": [
      "[12, 35, 88, 120, 155]\n"
     ]
    }
   ],
   "source": [
    "# 10\n",
    "\n",
    "'''\n",
    "By using list comprehension, please write a program to print the list after removing the value 24 in [12,24,35,24,88,120,155].\n",
    "'''\n",
    "\n",
    "l=[12,24,35,24,88,120,155]\n",
    "\n",
    "print([x for x in l if x!=24])"
   ]
  },
  {
   "cell_type": "code",
   "execution_count": 11,
   "metadata": {},
   "outputs": [
    {
     "name": "stdout",
     "output_type": "stream",
     "text": [
      "[24, 35, 70, 155]\n"
     ]
    }
   ],
   "source": [
    "# 11\n",
    "\n",
    "'''\n",
    "By using list comprehension, please write a program to print the list after removing the 0th,4th,5th numbers in [12,24,35,70,88,120,155].\n",
    "'''\n",
    "\n",
    "l=[12,24,35,70,88,120,155]\n",
    "\n",
    "print([x for x in l if x not in [l[0], l[4], l[5]]])"
   ]
  },
  {
   "cell_type": "code",
   "execution_count": 14,
   "metadata": {},
   "outputs": [
    {
     "name": "stdout",
     "output_type": "stream",
     "text": [
      "[12, 24, 88, 120, 155]\n"
     ]
    }
   ],
   "source": [
    "# 12\n",
    "\n",
    "'''\n",
    "By using list comprehension, please write a program to print the list after removing delete numbers which are divisible by 5 and 7 in [12,24,35,70,88,120,155].\n",
    "'''\n",
    "\n",
    "l=[12,24,35,70,88,120,155]\n",
    "\n",
    "print([x for x in l if x%35!=0])"
   ]
  },
  {
   "cell_type": "code",
   "execution_count": 3,
   "metadata": {},
   "outputs": [
    {
     "name": "stdout",
     "output_type": "stream",
     "text": [
      "[105, 595, 770, 805, 490]\n"
     ]
    }
   ],
   "source": [
    "# 13\n",
    "\n",
    "'''\n",
    "Please write a program to randomly generate a list with 5 numbers, which are divisible by 5 and 7 , between 1 and 1000 inclusive.\n",
    "'''\n",
    "\n",
    "import random\n",
    "\n",
    "print(random.sample([i for i in range(1,1001) if i%35==0], 5))\n",
    "\n"
   ]
  },
  {
   "cell_type": "code",
   "execution_count": 32,
   "metadata": {},
   "outputs": [
    {
     "name": "stdout",
     "output_type": "stream",
     "text": [
      "enter an integer: 5\n",
      "3.55\n"
     ]
    }
   ],
   "source": [
    "# 14\n",
    "\n",
    "'''\n",
    "Write a program to compute 1/2+2/3+3/4+...+n/n+1 with a given n input by console (n>0).\n",
    "'''\n",
    "\n",
    "val = input('enter an integer: ')\n",
    "if (int(val)>0):\n",
    "    n=int(val)\n",
    "    x=0\n",
    "\n",
    "    for i in range(1, n+1):\n",
    "        x = x+(i/(i+1))\n",
    "    print(round(x,2))\n",
    "else:\n",
    "    print(\"incorrect input\")\n",
    "\n"
   ]
  },
  {
   "cell_type": "code",
   "execution_count": null,
   "metadata": {},
   "outputs": [],
   "source": []
  }
 ],
 "metadata": {
  "kernelspec": {
   "display_name": "Python 3",
   "language": "python",
   "name": "python3"
  },
  "language_info": {
   "codemirror_mode": {
    "name": "ipython",
    "version": 3
   },
   "file_extension": ".py",
   "mimetype": "text/x-python",
   "name": "python",
   "nbconvert_exporter": "python",
   "pygments_lexer": "ipython3",
   "version": "3.6.6"
  }
 },
 "nbformat": 4,
 "nbformat_minor": 2
}
